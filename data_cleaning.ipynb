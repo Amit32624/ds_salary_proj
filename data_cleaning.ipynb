{
 "metadata": {
  "language_info": {
   "codemirror_mode": {
    "name": "ipython",
    "version": 3
   },
   "file_extension": ".py",
   "mimetype": "text/x-python",
   "name": "python",
   "nbconvert_exporter": "python",
   "pygments_lexer": "ipython3",
   "version": "3.8.5-final"
  },
  "orig_nbformat": 2,
  "kernelspec": {
   "name": "python3",
   "display_name": "Python 3",
   "language": "python"
  }
 },
 "nbformat": 4,
 "nbformat_minor": 2,
 "cells": [
  {
   "cell_type": "code",
   "execution_count": null,
   "metadata": {},
   "outputs": [],
   "source": [
    "from typing import Any, Union\n",
    "\n",
    "import pandas as pd\n",
    "from pandas import DataFrame, Series\n",
    "from pandas.io.parsers import TextFileReader\n",
    "\n",
    "df = pd.read_csv('glassdoor_jobs.csv')\n",
    "# print(df)\n",
    "\n",
    "#Salary parsing\n",
    "#Company Name text only\n",
    "#State Field\n",
    "#Age of company\n",
    "#Parsing of Job description\n",
    "\n",
    "df = df[df['Salary Estimate'] != '-1']\n",
    "salary = df['Salary Estimate'].apply(lambda x:x.split('(')[0])\n",
    "minus_kd = salary.apply(lambda x:x.replace('K','').replace('$',''))\n",
    "df['hourly'] = df['Salary Estimate'].apply(lambda x: 1 if 'per hour' in x.lower() else 0)\n",
    "df['min_salary'] = minus_kd.apply(lambda x:int(x.split('-')[0]))\n",
    "df['max_salary'] = minus_kd.apply(lambda x:int(x.split('-')[1]))\n",
    "df['avg_salary'] = (df.min_salary + df.max_salary)/2\n",
    "\n",
    "#Company name only\n",
    "df['company_txt'] = df.apply(lambda x:x['Company Name'] if x['Rating'] < 0 else x['Company Name'][:-3],axis =1)\n",
    "df_new =df['Location']\n",
    "#State field\n",
    "df[['City','State']] = df.Location.str.split(\",\",expand=True)\n",
    "#Age of company\n",
    "df['Age'] = df.Founded.apply(lambda x: x if x <1 else 2020 -x)\n",
    "df['Job Description'][3]\n",
    "del df['City']\n",
    "del df['Competitors']\n",
    "del df['hourly']\n",
    "del df['Headquarters']"
   ]
  },
  {
   "cell_type": "code",
   "execution_count": null,
   "metadata": {},
   "outputs": [],
   "source": [
    "#Python\n",
    "df['python'] =df['Job Description'].apply(lambda x : 1 if 'python' in x.lower() else 0)\n",
    "# print(df.python.value_counts())\n",
    "# R studio\n",
    "df['r_studio'] =df['Job Description'].apply(lambda x : 1 if 'r studio' in x.lower() or 'r-studio' in x.lower() else 0)\n",
    "df.r_studio.value_counts()\n",
    "#Spark\n",
    "# R studio\n",
    "df['spark'] =df['Job Description'].apply(lambda x : 1 if 'spark' in x.lower() else 0)\n",
    "print(df.spark.value_counts())\n",
    "#aws\n",
    "#AWS\n",
    "df['aws'] =df['Job Description'].apply(lambda x : 1 if 'aws' in x.lower() else 0)\n",
    "print(df.aws.value_counts())\n",
    "\n",
    "#Excel\n",
    "df['excel'] =df['Job Description'].apply(lambda x : 1 if 'excel' in x.lower() else 0)\n",
    "print(df.excel.value_counts())\n",
    "# df.drop['Location' == 'Remote']\n",
    "\n",
    "\n"
   ]
  },
  {
   "cell_type": "code",
   "execution_count": null,
   "metadata": {},
   "outputs": [],
   "source": [
    "df_out = df\n",
    "df_out.to_csv(\"salary_data_claned.csv\",index=False)\n",
    "\n",
    "# df.out = df.out.drop(['Competitors'],axis=1)"
   ]
  },
  {
   "cell_type": "code",
   "execution_count": null,
   "metadata": {},
   "outputs": [],
   "source": [
    "pd.read_csv('salary_data_claned.csv')"
   ]
  },
  {
   "cell_type": "code",
   "execution_count": null,
   "metadata": {},
   "outputs": [],
   "source": []
  }
 ]
}