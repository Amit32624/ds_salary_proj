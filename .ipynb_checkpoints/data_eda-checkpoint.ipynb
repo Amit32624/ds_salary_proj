{
 "cells": [
  {
   "cell_type": "code",
   "execution_count": 1,
   "metadata": {},
   "outputs": [],
   "source": [
    "import pandas as pd\n",
    "import matplotlib.pyplot as plt\n",
    "import seaborn as sns"
   ]
  },
  {
   "cell_type": "code",
   "execution_count": 2,
   "metadata": {},
   "outputs": [],
   "source": [
    "df = pd.read_csv(\"salary_data_cleaned.csv\")"
   ]
  },
  {
   "cell_type": "code",
   "execution_count": 3,
   "metadata": {},
   "outputs": [
    {
     "data": {
      "text/html": [
       "<div>\n",
       "<style scoped>\n",
       "    .dataframe tbody tr th:only-of-type {\n",
       "        vertical-align: middle;\n",
       "    }\n",
       "\n",
       "    .dataframe tbody tr th {\n",
       "        vertical-align: top;\n",
       "    }\n",
       "\n",
       "    .dataframe thead th {\n",
       "        text-align: right;\n",
       "    }\n",
       "</style>\n",
       "<table border=\"1\" class=\"dataframe\">\n",
       "  <thead>\n",
       "    <tr style=\"text-align: right;\">\n",
       "      <th></th>\n",
       "      <th>Job Title</th>\n",
       "      <th>Salary Estimate</th>\n",
       "      <th>Job Description</th>\n",
       "      <th>Rating</th>\n",
       "      <th>Company Name</th>\n",
       "      <th>Location</th>\n",
       "      <th>Size</th>\n",
       "      <th>Founded</th>\n",
       "      <th>Type of ownership</th>\n",
       "      <th>Industry</th>\n",
       "      <th>...</th>\n",
       "      <th>max_salary</th>\n",
       "      <th>avg_salary</th>\n",
       "      <th>company_txt</th>\n",
       "      <th>State</th>\n",
       "      <th>Age</th>\n",
       "      <th>python</th>\n",
       "      <th>r_studio</th>\n",
       "      <th>spark</th>\n",
       "      <th>aws</th>\n",
       "      <th>excel</th>\n",
       "    </tr>\n",
       "  </thead>\n",
       "  <tbody>\n",
       "    <tr>\n",
       "      <th>0</th>\n",
       "      <td>Senior Data Scientist</td>\n",
       "      <td>$109K - $175K (Glassdoor est.)</td>\n",
       "      <td>Job Posting Title\\r\\nSenior Data Scientist\\r\\n...</td>\n",
       "      <td>3.2</td>\n",
       "      <td>Big Fish Games\\r\\n3.2</td>\n",
       "      <td>Oakland, CA</td>\n",
       "      <td>501 to 1000 Employees</td>\n",
       "      <td>2002</td>\n",
       "      <td>Subsidiary or Business Segment</td>\n",
       "      <td>Video Games</td>\n",
       "      <td>...</td>\n",
       "      <td>175</td>\n",
       "      <td>142.0</td>\n",
       "      <td>Big Fish Games\\r\\n</td>\n",
       "      <td>CA</td>\n",
       "      <td>18</td>\n",
       "      <td>0</td>\n",
       "      <td>0</td>\n",
       "      <td>0</td>\n",
       "      <td>0</td>\n",
       "      <td>0</td>\n",
       "    </tr>\n",
       "    <tr>\n",
       "      <th>1</th>\n",
       "      <td>Data Scientist Technical Specialist</td>\n",
       "      <td>$93K - $153K (Glassdoor est.)</td>\n",
       "      <td>Technology is constantly changing and our adve...</td>\n",
       "      <td>3.7</td>\n",
       "      <td>Peraton\\r\\n3.7</td>\n",
       "      <td>Chantilly, VA</td>\n",
       "      <td>1001 to 5000 Employees</td>\n",
       "      <td>2017</td>\n",
       "      <td>Company - Private</td>\n",
       "      <td>Aerospace &amp; Defense</td>\n",
       "      <td>...</td>\n",
       "      <td>153</td>\n",
       "      <td>123.0</td>\n",
       "      <td>Peraton\\r\\n</td>\n",
       "      <td>VA</td>\n",
       "      <td>3</td>\n",
       "      <td>0</td>\n",
       "      <td>0</td>\n",
       "      <td>0</td>\n",
       "      <td>0</td>\n",
       "      <td>0</td>\n",
       "    </tr>\n",
       "    <tr>\n",
       "      <th>2</th>\n",
       "      <td>Data Analyst</td>\n",
       "      <td>$40K - $73K (Glassdoor est.)</td>\n",
       "      <td>This position will be responsible for the deve...</td>\n",
       "      <td>3.6</td>\n",
       "      <td>Bell Partners\\r\\n3.6</td>\n",
       "      <td>Raleigh, NC</td>\n",
       "      <td>1001 to 5000 Employees</td>\n",
       "      <td>1976</td>\n",
       "      <td>Company - Private</td>\n",
       "      <td>Real Estate</td>\n",
       "      <td>...</td>\n",
       "      <td>73</td>\n",
       "      <td>56.5</td>\n",
       "      <td>Bell Partners\\r\\n</td>\n",
       "      <td>NC</td>\n",
       "      <td>44</td>\n",
       "      <td>0</td>\n",
       "      <td>0</td>\n",
       "      <td>0</td>\n",
       "      <td>0</td>\n",
       "      <td>0</td>\n",
       "    </tr>\n",
       "    <tr>\n",
       "      <th>3</th>\n",
       "      <td>Marketing Scientist I</td>\n",
       "      <td>$48K - $103K (Glassdoor est.)</td>\n",
       "      <td>Valassis is a leader in the marketing technolo...</td>\n",
       "      <td>3.3</td>\n",
       "      <td>Valassis\\r\\n3.3</td>\n",
       "      <td>Livonia, MI</td>\n",
       "      <td>1001 to 5000 Employees</td>\n",
       "      <td>1970</td>\n",
       "      <td>Company - Private</td>\n",
       "      <td>Advertising &amp; Marketing</td>\n",
       "      <td>...</td>\n",
       "      <td>103</td>\n",
       "      <td>75.5</td>\n",
       "      <td>Valassis\\r\\n</td>\n",
       "      <td>MI</td>\n",
       "      <td>50</td>\n",
       "      <td>0</td>\n",
       "      <td>0</td>\n",
       "      <td>0</td>\n",
       "      <td>0</td>\n",
       "      <td>0</td>\n",
       "    </tr>\n",
       "    <tr>\n",
       "      <th>4</th>\n",
       "      <td>Scientist, Product Development</td>\n",
       "      <td>$50K - $93K (Glassdoor est.)</td>\n",
       "      <td>Summary:\\r\\nMetagenics is a global lifestyle m...</td>\n",
       "      <td>3.1</td>\n",
       "      <td>Metagenics\\r\\n3.1</td>\n",
       "      <td>Gig Harbor, WA</td>\n",
       "      <td>201 to 500 Employees</td>\n",
       "      <td>1983</td>\n",
       "      <td>Company - Private</td>\n",
       "      <td>Health Care Services &amp; Hospitals</td>\n",
       "      <td>...</td>\n",
       "      <td>93</td>\n",
       "      <td>71.5</td>\n",
       "      <td>Metagenics\\r\\n</td>\n",
       "      <td>WA</td>\n",
       "      <td>37</td>\n",
       "      <td>0</td>\n",
       "      <td>0</td>\n",
       "      <td>0</td>\n",
       "      <td>0</td>\n",
       "      <td>0</td>\n",
       "    </tr>\n",
       "  </tbody>\n",
       "</table>\n",
       "<p>5 rows × 23 columns</p>\n",
       "</div>"
      ],
      "text/plain": [
       "                             Job Title                 Salary Estimate  \\\n",
       "0                Senior Data Scientist  $109K - $175K (Glassdoor est.)   \n",
       "1  Data Scientist Technical Specialist   $93K - $153K (Glassdoor est.)   \n",
       "2                         Data Analyst    $40K - $73K (Glassdoor est.)   \n",
       "3                Marketing Scientist I   $48K - $103K (Glassdoor est.)   \n",
       "4       Scientist, Product Development    $50K - $93K (Glassdoor est.)   \n",
       "\n",
       "                                     Job Description  Rating  \\\n",
       "0  Job Posting Title\\r\\nSenior Data Scientist\\r\\n...     3.2   \n",
       "1  Technology is constantly changing and our adve...     3.7   \n",
       "2  This position will be responsible for the deve...     3.6   \n",
       "3  Valassis is a leader in the marketing technolo...     3.3   \n",
       "4  Summary:\\r\\nMetagenics is a global lifestyle m...     3.1   \n",
       "\n",
       "            Company Name        Location                    Size  Founded  \\\n",
       "0  Big Fish Games\\r\\n3.2     Oakland, CA   501 to 1000 Employees     2002   \n",
       "1         Peraton\\r\\n3.7   Chantilly, VA  1001 to 5000 Employees     2017   \n",
       "2   Bell Partners\\r\\n3.6     Raleigh, NC  1001 to 5000 Employees     1976   \n",
       "3        Valassis\\r\\n3.3     Livonia, MI  1001 to 5000 Employees     1970   \n",
       "4      Metagenics\\r\\n3.1  Gig Harbor, WA    201 to 500 Employees     1983   \n",
       "\n",
       "                Type of ownership                          Industry  ...  \\\n",
       "0  Subsidiary or Business Segment                       Video Games  ...   \n",
       "1               Company - Private               Aerospace & Defense  ...   \n",
       "2               Company - Private                       Real Estate  ...   \n",
       "3               Company - Private           Advertising & Marketing  ...   \n",
       "4               Company - Private  Health Care Services & Hospitals  ...   \n",
       "\n",
       "  max_salary avg_salary         company_txt  State  Age python r_studio  \\\n",
       "0        175      142.0  Big Fish Games\\r\\n     CA   18      0        0   \n",
       "1        153      123.0         Peraton\\r\\n     VA    3      0        0   \n",
       "2         73       56.5   Bell Partners\\r\\n     NC   44      0        0   \n",
       "3        103       75.5        Valassis\\r\\n     MI   50      0        0   \n",
       "4         93       71.5      Metagenics\\r\\n     WA   37      0        0   \n",
       "\n",
       "   spark  aws  excel  \n",
       "0      0    0      0  \n",
       "1      0    0      0  \n",
       "2      0    0      0  \n",
       "3      0    0      0  \n",
       "4      0    0      0  \n",
       "\n",
       "[5 rows x 23 columns]"
      ]
     },
     "execution_count": 3,
     "metadata": {},
     "output_type": "execute_result"
    }
   ],
   "source": [
    "df.head()"
   ]
  },
  {
   "cell_type": "code",
   "execution_count": 4,
   "metadata": {},
   "outputs": [
    {
     "data": {
      "text/plain": [
       "Index(['Job Title', 'Salary Estimate', 'Job Description', 'Rating',\n",
       "       'Company Name', 'Location', 'Size', 'Founded', 'Type of ownership',\n",
       "       'Industry', 'Sector', 'Revenue', 'min_salary', 'max_salary',\n",
       "       'avg_salary', 'company_txt', 'State', 'Age', 'python', 'r_studio',\n",
       "       'spark', 'aws', 'excel'],\n",
       "      dtype='object')"
      ]
     },
     "execution_count": 4,
     "metadata": {},
     "output_type": "execute_result"
    }
   ],
   "source": [
    "df.columns"
   ]
  },
  {
   "cell_type": "code",
   "execution_count": null,
   "metadata": {},
   "outputs": [],
   "source": [
    "def title_simplifier(title):\n",
    "    if 'data scientist' in title.lower():\n",
    "        return 'data scientist'\n",
    "    elif 'data engineer' in title.lower():\n",
    "        return 'data engineer'\n",
    "    elif 'analyst' in title.lower():\n",
    "        return 'analyst'\n",
    "    elif 'machine learning' in title.lower():\n",
    "        return 'machine learning'\n",
    "    elif 'manager' in title.lower():\n",
    "        return 'manager'\n",
    "    elif ' director' in title.lower():\n",
    "        return 'director'\n",
    "    else:\n",
    "        return 'na'\n",
    "    \n",
    "\n",
    "    \n",
    "    #-----------------\n",
    "    #job title and seniority\n",
    "    \n",
    "    ##Fix state los Angeles\n",
    "\n"
   ]
  },
  {
   "cell_type": "code",
   "execution_count": null,
   "metadata": {},
   "outputs": [],
   "source": [
    "df['job_simplified'] =df['Job Title'].apply(title_simplifier)"
   ]
  },
  {
   "cell_type": "code",
   "execution_count": null,
   "metadata": {},
   "outputs": [],
   "source": [
    "df.job_simplified.value_counts()"
   ]
  },
  {
   "cell_type": "code",
   "execution_count": null,
   "metadata": {},
   "outputs": [],
   "source": [
    "def seniority(title):\n",
    "    if 'sr' in title.lower() or 'senior' in title.lower() or 'sr' in title.lower() or 'lead' in title.lower() or 'principal' in title.lower():\n",
    "        return 'senior'\n",
    "    elif 'jr' in title.lower() or'jenior' in title.lower() or 'jr.' in title.lower():\n",
    "        return 'jr'\n",
    "    else:\n",
    "        return 'na'"
   ]
  },
  {
   "cell_type": "code",
   "execution_count": null,
   "metadata": {},
   "outputs": [],
   "source": []
  },
  {
   "cell_type": "code",
   "execution_count": null,
   "metadata": {},
   "outputs": [],
   "source": [
    "df['seniority'] =df['Job Title'].apply(seniority)\n",
    "df.seniority.value_counts()"
   ]
  },
  {
   "cell_type": "code",
   "execution_count": null,
   "metadata": {},
   "outputs": [],
   "source": [
    "df.State.value_counts()"
   ]
  },
  {
   "cell_type": "code",
   "execution_count": null,
   "metadata": {},
   "outputs": [],
   "source": [
    "df['desc_length'] =df['Job Description'].apply(lambda x:len(x))\n",
    "df['desc_length']"
   ]
  },
  {
   "cell_type": "code",
   "execution_count": null,
   "metadata": {},
   "outputs": [],
   "source": [
    "df[['min_salary','max_salary']]"
   ]
  },
  {
   "cell_type": "code",
   "execution_count": null,
   "metadata": {},
   "outputs": [],
   "source": [
    "df.company_txt = df.company_txt.apply(lambda x:x.replace('\\r\\n',''))"
   ]
  },
  {
   "cell_type": "code",
   "execution_count": null,
   "metadata": {},
   "outputs": [],
   "source": [
    "df['company_txt']"
   ]
  },
  {
   "cell_type": "code",
   "execution_count": null,
   "metadata": {},
   "outputs": [],
   "source": [
    "df.describe()"
   ]
  },
  {
   "cell_type": "code",
   "execution_count": null,
   "metadata": {},
   "outputs": [],
   "source": [
    "df.columns"
   ]
  },
  {
   "cell_type": "code",
   "execution_count": null,
   "metadata": {},
   "outputs": [],
   "source": [
    "df.Rating.hist()"
   ]
  },
  {
   "cell_type": "code",
   "execution_count": null,
   "metadata": {},
   "outputs": [],
   "source": [
    "df.avg_salary.hist()"
   ]
  },
  {
   "cell_type": "code",
   "execution_count": null,
   "metadata": {},
   "outputs": [],
   "source": [
    "df.Age.hist()"
   ]
  },
  {
   "cell_type": "code",
   "execution_count": null,
   "metadata": {},
   "outputs": [],
   "source": [
    "df.desc_length.hist()"
   ]
  },
  {
   "cell_type": "code",
   "execution_count": null,
   "metadata": {},
   "outputs": [],
   "source": [
    "df.boxplot(column =['Age','avg_salary','Rating'])"
   ]
  },
  {
   "cell_type": "code",
   "execution_count": null,
   "metadata": {},
   "outputs": [],
   "source": [
    "df.boxplot(column =['Rating'])"
   ]
  },
  {
   "cell_type": "code",
   "execution_count": null,
   "metadata": {},
   "outputs": [],
   "source": [
    "df[['Age','avg_salary','Rating','desc_length']].corr()"
   ]
  },
  {
   "cell_type": "code",
   "execution_count": null,
   "metadata": {},
   "outputs": [],
   "source": [
    "cmap =sns.diverging_palette(220,10,as_cmap = True)\n",
    "sns.heatmap(df[['Age','avg_salary','Rating','desc_length']].corr(),vmax = .3,center = 0,cmap =cmap,\n",
    "square=True,linewidth =.5,cbar_kws ={\"shrink\": .5})"
   ]
  },
  {
   "cell_type": "code",
   "execution_count": null,
   "metadata": {},
   "outputs": [],
   "source": [
    "# Categorical Variables\n",
    "df.columns"
   ]
  },
  {
   "cell_type": "code",
   "execution_count": null,
   "metadata": {},
   "outputs": [],
   "source": [
    "df_categorical = df[['Location','Size','Industry','Sector','Revenue','company_txt','State','python','r_studio',\n",
    "       'spark', 'aws', 'excel', 'job_simplified', 'seniority']]\n",
    "print(df_categorical)"
   ]
  },
  {
   "cell_type": "code",
   "execution_count": null,
   "metadata": {},
   "outputs": [],
   "source": [
    "for i in df_categorical.columns:\n",
    "    cat_num =df_categorical[i].value_counts()\n",
    "    print(\"Graph for %s: total =%d\" %(i, len(cat_num)))\n",
    "    chart=sns.barplot(x =cat_num.index,y =cat_num)\n",
    "    chart.set_xticklabels(chart.get_xticklabels(),rotation =90)\n",
    "    plt.show()"
   ]
  },
  {
   "cell_type": "code",
   "execution_count": null,
   "metadata": {},
   "outputs": [],
   "source": [
    "for i in df_categorical[['Location','company_txt']].columns:\n",
    "    cat_num =df_categorical[i].value_counts()[:20]\n",
    "    print(\"Graph for %s: total =%d\" %(i, len(cat_num)))\n",
    "    chart=sns.barplot(x =cat_num.index,y =cat_num)\n",
    "    chart.set_xticklabels(chart.get_xticklabels(),rotation =90)\n",
    "    plt.show()"
   ]
  },
  {
   "cell_type": "code",
   "execution_count": null,
   "metadata": {},
   "outputs": [],
   "source": [
    "df.columns"
   ]
  },
  {
   "cell_type": "code",
   "execution_count": null,
   "metadata": {},
   "outputs": [],
   "source": [
    "pd.pivot_table(df,index='job_simplified',values ='avg_salary')"
   ]
  },
  {
   "cell_type": "code",
   "execution_count": null,
   "metadata": {},
   "outputs": [],
   "source": [
    "pd.pivot_table(df,index=['job_simplified','seniority'],values ='avg_salary')"
   ]
  },
  {
   "cell_type": "code",
   "execution_count": null,
   "metadata": {},
   "outputs": [],
   "source": [
    "pd.pivot_table(df,index='State',values ='avg_salary').sort_values('avg_salary',ascending = False)"
   ]
  },
  {
   "cell_type": "code",
   "execution_count": null,
   "metadata": {},
   "outputs": [],
   "source": [
    "pd.pivot_table(df,index=['State','job_simplified'],values ='avg_salary').sort_values('State',ascending = False)"
   ]
  },
  {
   "cell_type": "code",
   "execution_count": null,
   "metadata": {},
   "outputs": [],
   "source": [
    "#To make visible all rows\n",
    "pd.options.display.max_rows\n",
    "pd.set_option('display.max_rows',None)"
   ]
  },
  {
   "cell_type": "code",
   "execution_count": null,
   "metadata": {},
   "outputs": [],
   "source": [
    "pd.pivot_table(df,index=['State','job_simplified'],values ='avg_salary',aggfunc='count').sort_values('State',ascending = False)"
   ]
  },
  {
   "cell_type": "code",
   "execution_count": null,
   "metadata": {},
   "outputs": [],
   "source": [
    "pd.pivot_table(df[df.job_simplified == 'data scientist'],index=['State','job_simplified'],values ='avg_salary').sort_values('avg_salary',ascending = False)"
   ]
  },
  {
   "cell_type": "code",
   "execution_count": null,
   "metadata": {},
   "outputs": [],
   "source": [
    "df.columns"
   ]
  },
  {
   "cell_type": "code",
   "execution_count": 20,
   "metadata": {},
   "outputs": [],
   "source": [
    "#Salary rating, industry, sector, revenue, number of comp, hourly, employer provided,python,r,spark,aws,excel,desclen\n",
    "df_pivots = df[['Rating','Industry','Sector','Revenue','python','r_studio','spark','aws','excel','avg_salary']]"
   ]
  },
  {
   "cell_type": "code",
   "execution_count": 22,
   "metadata": {},
   "outputs": [
    {
     "name": "stdout",
     "output_type": "stream",
     "text": [
      "Rating\n",
      "        avg_salary\n",
      "Rating            \n",
      " 2.1    125.840909\n",
      " 4.4    123.765957\n",
      " 4.5    120.868421\n",
      " 2.4    119.750000\n",
      " 4.8    119.147059\n",
      " 3.6    118.746032\n",
      " 5.0    118.500000\n",
      " 1.0    118.500000\n",
      " 4.7    118.368421\n",
      " 4.9    117.483333\n",
      " 3.2    116.125000\n",
      " 4.1    115.574468\n",
      " 2.5    115.500000\n",
      " 4.2    115.453947\n",
      " 3.4    114.194444\n",
      "-1.0    113.850649\n",
      " 3.3    113.800000\n",
      " 3.8    113.000000\n",
      " 4.6    112.592593\n",
      " 2.7    111.666667\n",
      " 3.7    110.494681\n",
      " 4.3    107.300000\n",
      " 3.5    106.500000\n",
      " 3.9    105.802198\n",
      " 4.0    105.306723\n",
      " 2.6    105.200000\n",
      " 2.8    102.750000\n",
      " 3.0    102.215517\n",
      " 3.1    102.187500\n",
      " 2.9    101.900000\n",
      " 2.0     93.500000\n",
      "Industry\n",
      "                                          avg_salary\n",
      "Industry                                            \n",
      "Financial Analytics & Research            149.250000\n",
      "Oil & Gas Exploration & Production        142.500000\n",
      "Health, Beauty, & Fitness                 138.125000\n",
      "Hotels, Motels, & Resorts                 136.500000\n",
      "Media & Entertainment Retail Stores       133.625000\n",
      "Metal & Mineral Manufacturing             128.500000\n",
      "Home Furniture & Housewares Stores        128.500000\n",
      "Energy                                    127.500000\n",
      "Miscellaneous Manufacturing               126.833333\n",
      "Video Games                               126.800000\n",
      "Cable, Internet & Telephone Providers     124.500000\n",
      "Food Production                           124.500000\n",
      "Venture Capital & Private Equity          124.500000\n",
      "Consumer Products Manufacturing           123.409091\n",
      "Department, Clothing, & Shoe Stores       122.750000\n",
      "News Outlet                               121.500000\n",
      "Farm Support Services                     121.500000\n",
      "Logistics & Supply Chain                  120.583333\n",
      "Other Retail Stores                       119.850000\n",
      "Casual Restaurants                        118.500000\n",
      "Accounting                                118.150000\n",
      "Education Training Services               118.090909\n",
      "Insurance Agencies & Brokerages           118.000000\n",
      "Health Care Products Manufacturing        118.000000\n",
      "Computer Hardware & Software              117.751799\n",
      "IT Services                               116.786458\n",
      "Internet                                  115.826087\n",
      "Construction                              115.500000\n",
      "Research & Development                    114.333333\n",
      "-1                                        114.230435\n",
      "Financial Transaction Processing          114.050000\n",
      "Advertising & Marketing                   113.894231\n",
      "Express Delivery Services                 113.750000\n",
      "Electrical & Electronic Manufacturing     113.562500\n",
      "Architectural & Engineering Services      112.250000\n",
      "Sports & Recreation                       112.000000\n",
      "Utilities                                 112.000000\n",
      "Colleges & Universities                   111.900000\n",
      "Industrial Manufacturing                  111.500000\n",
      "Lending                                   110.552632\n",
      "Staffing & Outsourcing                    110.531250\n",
      "Home Centers & Hardware Stores            109.750000\n",
      "Food & Beverage Manufacturing             109.600000\n",
      "Insurance Carriers                        109.337209\n",
      "Health Care Services & Hospitals          109.250000\n",
      "Automotive Parts & Accessories Stores     109.200000\n",
      "Enterprise Software & Network Solutions   108.631868\n",
      "Publishing                                108.250000\n",
      "Telecommunications Services               107.833333\n",
      "Wholesale                                 107.142857\n",
      "Radio                                     107.000000\n",
      "Grocery Stores & Supermarkets             106.750000\n",
      "Banks & Credit Unions                     106.333333\n",
      "Telecommunications Manufacturing          106.250000\n",
      "Investment Banking & Asset Management     105.738095\n",
      "Aerospace & Defense                       105.593750\n",
      "Motion Picture Production & Distribution  104.500000\n",
      "Health Fundraising Organizations          104.500000\n",
      "Consulting                                104.354839\n",
      "Transportation Management                 104.250000\n",
      "Social Assistance                         103.071429\n",
      "Biotech & Pharmaceuticals                 102.027273\n",
      "Transportation Equipment Manufacturing    100.571429\n",
      "Chemical Manufacturing                    100.250000\n",
      "Federal Agencies                          100.066667\n",
      "Food & Beverage Stores                     97.916667\n",
      "Membership Organizations                   97.000000\n",
      "K-12 Education                             96.250000\n",
      "Talent & Modeling Agencies                 96.000000\n",
      "Auto Repair & Maintenance                  96.000000\n",
      "Brokerage Services                         94.500000\n",
      "Veterinary Services                        93.500000\n",
      "Wood Product Manufacturing                 93.500000\n",
      "Building & Personnel Services              93.500000\n",
      "TV Broadcast & Cable Networks              93.500000\n",
      "Rail                                       93.500000\n",
      "Asphalt Products Manufacturing             82.000000\n",
      "Real Estate                                79.138889\n",
      "Sector\n",
      "                                    avg_salary\n",
      "Sector                                        \n",
      "Travel & Tourism                    136.500000\n",
      "Oil, Gas, Energy & Utilities        131.187500\n",
      "Consumer Services                   129.200000\n",
      "Agriculture & Forestry              123.000000\n",
      "Finance                             118.640449\n",
      "Restaurants, Bars & Food Services   118.500000\n",
      "Accounting & Legal                  118.150000\n",
      "Media                               116.541667\n",
      "Retail                              115.368421\n",
      "Information Technology              115.157596\n",
      "-1                                  114.230435\n",
      "Education                           113.944444\n",
      "Transportation & Logistics          113.909091\n",
      "Manufacturing                       113.041667\n",
      "Telecommunications                  110.083333\n",
      "Insurance                           109.902174\n",
      "Health Care                         109.250000\n",
      "Business Services                   108.909938\n",
      "Construction, Repair & Maintenance  105.750000\n",
      "Aerospace & Defense                 105.593750\n",
      "Arts, Entertainment & Recreation    104.000000\n",
      "Non-Profit                          103.250000\n",
      "Biotech & Pharmaceuticals           102.027273\n",
      "Government                          100.066667\n",
      "Real Estate                          79.138889\n",
      "Revenue\n",
      "                                  avg_salary\n",
      "Revenue                                     \n",
      "$50 to $100 million (USD)         123.698413\n",
      "$1 to $5 million (USD)            120.214286\n",
      "$10+ billion (USD)                116.080508\n",
      "$5 to $10 million (USD)           114.500000\n",
      "-1                                114.007042\n",
      "$25 to $50 million (USD)          113.361111\n",
      "$5 to $10 billion (USD)           112.700000\n",
      "$2 to $5 billion (USD)            112.600000\n",
      "Unknown / Non-Applicable          111.521739\n",
      "$100 to $500 million (USD)        109.937086\n",
      "$1 to $2 billion (USD)            109.519608\n",
      "Less than $1 million (USD)        108.763889\n",
      "$10 to $25 million (USD)          108.430380\n",
      "$500 million to $1 billion (USD)  107.480000\n",
      "python\n",
      "        avg_salary\n",
      "python            \n",
      "1       115.517647\n",
      "0       112.041519\n",
      "r_studio\n",
      "          avg_salary\n",
      "r_studio            \n",
      "1         134.000000\n",
      "0         112.230643\n",
      "spark\n",
      "       avg_salary\n",
      "spark            \n",
      "1       115.02000\n",
      "0       112.22693\n",
      "aws\n",
      "     avg_salary\n",
      "aws            \n",
      "0    112.465096\n",
      "1    109.366197\n",
      "excel\n",
      "       avg_salary\n",
      "excel            \n",
      "1      113.614583\n",
      "0      112.170384\n",
      "avg_salary\n"
     ]
    },
    {
     "ename": "ValueError",
     "evalue": "Grouper for 'avg_salary' not 1-dimensional",
     "output_type": "error",
     "traceback": [
      "\u001b[1;31m---------------------------------------------------------------------------\u001b[0m",
      "\u001b[1;31mValueError\u001b[0m                                Traceback (most recent call last)",
      "\u001b[1;32m<ipython-input-22-3a437fe8da3e>\u001b[0m in \u001b[0;36m<module>\u001b[1;34m\u001b[0m\n\u001b[0;32m      1\u001b[0m \u001b[1;32mfor\u001b[0m \u001b[0mi\u001b[0m \u001b[1;32min\u001b[0m \u001b[0mdf_pivots\u001b[0m\u001b[1;33m:\u001b[0m\u001b[1;33m\u001b[0m\u001b[1;33m\u001b[0m\u001b[0m\n\u001b[0;32m      2\u001b[0m     \u001b[0mprint\u001b[0m\u001b[1;33m(\u001b[0m\u001b[0mi\u001b[0m\u001b[1;33m)\u001b[0m\u001b[1;33m\u001b[0m\u001b[1;33m\u001b[0m\u001b[0m\n\u001b[1;32m----> 3\u001b[1;33m     \u001b[0mprint\u001b[0m\u001b[1;33m(\u001b[0m\u001b[0mpd\u001b[0m\u001b[1;33m.\u001b[0m\u001b[0mpivot_table\u001b[0m\u001b[1;33m(\u001b[0m\u001b[0mdf_pivots\u001b[0m\u001b[1;33m,\u001b[0m\u001b[0mindex\u001b[0m\u001b[1;33m=\u001b[0m\u001b[0mi\u001b[0m\u001b[1;33m,\u001b[0m\u001b[0mvalues\u001b[0m\u001b[1;33m=\u001b[0m\u001b[1;34m'avg_salary'\u001b[0m\u001b[1;33m)\u001b[0m\u001b[1;33m.\u001b[0m\u001b[0msort_values\u001b[0m\u001b[1;33m(\u001b[0m\u001b[1;34m'avg_salary'\u001b[0m\u001b[1;33m,\u001b[0m\u001b[0mascending\u001b[0m \u001b[1;33m=\u001b[0m\u001b[1;32mFalse\u001b[0m\u001b[1;33m)\u001b[0m\u001b[1;33m)\u001b[0m\u001b[1;33m\u001b[0m\u001b[1;33m\u001b[0m\u001b[0m\n\u001b[0m",
      "\u001b[1;32mC:\\ProgramData\\Anaconda3\\lib\\site-packages\\pandas\\core\\reshape\\pivot.py\u001b[0m in \u001b[0;36mpivot_table\u001b[1;34m(data, values, index, columns, aggfunc, fill_value, margins, dropna, margins_name, observed)\u001b[0m\n\u001b[0;32m    110\u001b[0m         \u001b[0mvalues\u001b[0m \u001b[1;33m=\u001b[0m \u001b[0mlist\u001b[0m\u001b[1;33m(\u001b[0m\u001b[0mvalues\u001b[0m\u001b[1;33m)\u001b[0m\u001b[1;33m\u001b[0m\u001b[1;33m\u001b[0m\u001b[0m\n\u001b[0;32m    111\u001b[0m \u001b[1;33m\u001b[0m\u001b[0m\n\u001b[1;32m--> 112\u001b[1;33m     \u001b[0mgrouped\u001b[0m \u001b[1;33m=\u001b[0m \u001b[0mdata\u001b[0m\u001b[1;33m.\u001b[0m\u001b[0mgroupby\u001b[0m\u001b[1;33m(\u001b[0m\u001b[0mkeys\u001b[0m\u001b[1;33m,\u001b[0m \u001b[0mobserved\u001b[0m\u001b[1;33m=\u001b[0m\u001b[0mobserved\u001b[0m\u001b[1;33m)\u001b[0m\u001b[1;33m\u001b[0m\u001b[1;33m\u001b[0m\u001b[0m\n\u001b[0m\u001b[0;32m    113\u001b[0m     \u001b[0magged\u001b[0m \u001b[1;33m=\u001b[0m \u001b[0mgrouped\u001b[0m\u001b[1;33m.\u001b[0m\u001b[0magg\u001b[0m\u001b[1;33m(\u001b[0m\u001b[0maggfunc\u001b[0m\u001b[1;33m)\u001b[0m\u001b[1;33m\u001b[0m\u001b[1;33m\u001b[0m\u001b[0m\n\u001b[0;32m    114\u001b[0m     \u001b[1;32mif\u001b[0m \u001b[0mdropna\u001b[0m \u001b[1;32mand\u001b[0m \u001b[0misinstance\u001b[0m\u001b[1;33m(\u001b[0m\u001b[0magged\u001b[0m\u001b[1;33m,\u001b[0m \u001b[0mABCDataFrame\u001b[0m\u001b[1;33m)\u001b[0m \u001b[1;32mand\u001b[0m \u001b[0mlen\u001b[0m\u001b[1;33m(\u001b[0m\u001b[0magged\u001b[0m\u001b[1;33m.\u001b[0m\u001b[0mcolumns\u001b[0m\u001b[1;33m)\u001b[0m\u001b[1;33m:\u001b[0m\u001b[1;33m\u001b[0m\u001b[1;33m\u001b[0m\u001b[0m\n",
      "\u001b[1;32mC:\\ProgramData\\Anaconda3\\lib\\site-packages\\pandas\\core\\frame.py\u001b[0m in \u001b[0;36mgroupby\u001b[1;34m(self, by, axis, level, as_index, sort, group_keys, squeeze, observed, dropna)\u001b[0m\n\u001b[0;32m   6715\u001b[0m         \u001b[0maxis\u001b[0m \u001b[1;33m=\u001b[0m \u001b[0mself\u001b[0m\u001b[1;33m.\u001b[0m\u001b[0m_get_axis_number\u001b[0m\u001b[1;33m(\u001b[0m\u001b[0maxis\u001b[0m\u001b[1;33m)\u001b[0m\u001b[1;33m\u001b[0m\u001b[1;33m\u001b[0m\u001b[0m\n\u001b[0;32m   6716\u001b[0m \u001b[1;33m\u001b[0m\u001b[0m\n\u001b[1;32m-> 6717\u001b[1;33m         return DataFrameGroupBy(\n\u001b[0m\u001b[0;32m   6718\u001b[0m             \u001b[0mobj\u001b[0m\u001b[1;33m=\u001b[0m\u001b[0mself\u001b[0m\u001b[1;33m,\u001b[0m\u001b[1;33m\u001b[0m\u001b[1;33m\u001b[0m\u001b[0m\n\u001b[0;32m   6719\u001b[0m             \u001b[0mkeys\u001b[0m\u001b[1;33m=\u001b[0m\u001b[0mby\u001b[0m\u001b[1;33m,\u001b[0m\u001b[1;33m\u001b[0m\u001b[1;33m\u001b[0m\u001b[0m\n",
      "\u001b[1;32mC:\\ProgramData\\Anaconda3\\lib\\site-packages\\pandas\\core\\groupby\\groupby.py\u001b[0m in \u001b[0;36m__init__\u001b[1;34m(self, obj, keys, axis, level, grouper, exclusions, selection, as_index, sort, group_keys, squeeze, observed, mutated, dropna)\u001b[0m\n\u001b[0;32m    558\u001b[0m             \u001b[1;32mfrom\u001b[0m \u001b[0mpandas\u001b[0m\u001b[1;33m.\u001b[0m\u001b[0mcore\u001b[0m\u001b[1;33m.\u001b[0m\u001b[0mgroupby\u001b[0m\u001b[1;33m.\u001b[0m\u001b[0mgrouper\u001b[0m \u001b[1;32mimport\u001b[0m \u001b[0mget_grouper\u001b[0m\u001b[1;33m\u001b[0m\u001b[1;33m\u001b[0m\u001b[0m\n\u001b[0;32m    559\u001b[0m \u001b[1;33m\u001b[0m\u001b[0m\n\u001b[1;32m--> 560\u001b[1;33m             grouper, exclusions, obj = get_grouper(\n\u001b[0m\u001b[0;32m    561\u001b[0m                 \u001b[0mobj\u001b[0m\u001b[1;33m,\u001b[0m\u001b[1;33m\u001b[0m\u001b[1;33m\u001b[0m\u001b[0m\n\u001b[0;32m    562\u001b[0m                 \u001b[0mkeys\u001b[0m\u001b[1;33m,\u001b[0m\u001b[1;33m\u001b[0m\u001b[1;33m\u001b[0m\u001b[0m\n",
      "\u001b[1;32mC:\\ProgramData\\Anaconda3\\lib\\site-packages\\pandas\\core\\groupby\\grouper.py\u001b[0m in \u001b[0;36mget_grouper\u001b[1;34m(obj, key, axis, level, sort, observed, mutated, validate, dropna)\u001b[0m\n\u001b[0;32m    826\u001b[0m         \u001b[1;31m# allow us to passing the actual Grouping as the gpr\u001b[0m\u001b[1;33m\u001b[0m\u001b[1;33m\u001b[0m\u001b[1;33m\u001b[0m\u001b[0m\n\u001b[0;32m    827\u001b[0m         ping = (\n\u001b[1;32m--> 828\u001b[1;33m             Grouping(\n\u001b[0m\u001b[0;32m    829\u001b[0m                 \u001b[0mgroup_axis\u001b[0m\u001b[1;33m,\u001b[0m\u001b[1;33m\u001b[0m\u001b[1;33m\u001b[0m\u001b[0m\n\u001b[0;32m    830\u001b[0m                 \u001b[0mgpr\u001b[0m\u001b[1;33m,\u001b[0m\u001b[1;33m\u001b[0m\u001b[1;33m\u001b[0m\u001b[0m\n",
      "\u001b[1;32mC:\\ProgramData\\Anaconda3\\lib\\site-packages\\pandas\\core\\groupby\\grouper.py\u001b[0m in \u001b[0;36m__init__\u001b[1;34m(self, index, grouper, obj, name, level, sort, observed, in_axis, dropna)\u001b[0m\n\u001b[0;32m    541\u001b[0m                 \u001b[1;32mif\u001b[0m \u001b[0mgetattr\u001b[0m\u001b[1;33m(\u001b[0m\u001b[0mself\u001b[0m\u001b[1;33m.\u001b[0m\u001b[0mgrouper\u001b[0m\u001b[1;33m,\u001b[0m \u001b[1;34m\"ndim\"\u001b[0m\u001b[1;33m,\u001b[0m \u001b[1;36m1\u001b[0m\u001b[1;33m)\u001b[0m \u001b[1;33m!=\u001b[0m \u001b[1;36m1\u001b[0m\u001b[1;33m:\u001b[0m\u001b[1;33m\u001b[0m\u001b[1;33m\u001b[0m\u001b[0m\n\u001b[0;32m    542\u001b[0m                     \u001b[0mt\u001b[0m \u001b[1;33m=\u001b[0m \u001b[0mself\u001b[0m\u001b[1;33m.\u001b[0m\u001b[0mname\u001b[0m \u001b[1;32mor\u001b[0m \u001b[0mstr\u001b[0m\u001b[1;33m(\u001b[0m\u001b[0mtype\u001b[0m\u001b[1;33m(\u001b[0m\u001b[0mself\u001b[0m\u001b[1;33m.\u001b[0m\u001b[0mgrouper\u001b[0m\u001b[1;33m)\u001b[0m\u001b[1;33m)\u001b[0m\u001b[1;33m\u001b[0m\u001b[1;33m\u001b[0m\u001b[0m\n\u001b[1;32m--> 543\u001b[1;33m                     \u001b[1;32mraise\u001b[0m \u001b[0mValueError\u001b[0m\u001b[1;33m(\u001b[0m\u001b[1;34mf\"Grouper for '{t}' not 1-dimensional\"\u001b[0m\u001b[1;33m)\u001b[0m\u001b[1;33m\u001b[0m\u001b[1;33m\u001b[0m\u001b[0m\n\u001b[0m\u001b[0;32m    544\u001b[0m                 \u001b[0mself\u001b[0m\u001b[1;33m.\u001b[0m\u001b[0mgrouper\u001b[0m \u001b[1;33m=\u001b[0m \u001b[0mself\u001b[0m\u001b[1;33m.\u001b[0m\u001b[0mindex\u001b[0m\u001b[1;33m.\u001b[0m\u001b[0mmap\u001b[0m\u001b[1;33m(\u001b[0m\u001b[0mself\u001b[0m\u001b[1;33m.\u001b[0m\u001b[0mgrouper\u001b[0m\u001b[1;33m)\u001b[0m\u001b[1;33m\u001b[0m\u001b[1;33m\u001b[0m\u001b[0m\n\u001b[0;32m    545\u001b[0m                 if not (\n",
      "\u001b[1;31mValueError\u001b[0m: Grouper for 'avg_salary' not 1-dimensional"
     ]
    }
   ],
   "source": [
    "for i in df_pivots:\n",
    "    print(i)\n",
    "    print(pd.pivot_table(df_pivots,index=i,values='avg_salary').sort_values('avg_salary',ascending =False))"
   ]
  },
  {
   "cell_type": "code",
   "execution_count": 29,
   "metadata": {},
   "outputs": [
    {
     "data": {
      "text/html": [
       "<div>\n",
       "<style scoped>\n",
       "    .dataframe tbody tr th:only-of-type {\n",
       "        vertical-align: middle;\n",
       "    }\n",
       "\n",
       "    .dataframe tbody tr th {\n",
       "        vertical-align: top;\n",
       "    }\n",
       "\n",
       "    .dataframe thead th {\n",
       "        text-align: right;\n",
       "    }\n",
       "</style>\n",
       "<table border=\"1\" class=\"dataframe\">\n",
       "  <thead>\n",
       "    <tr style=\"text-align: right;\">\n",
       "      <th>python</th>\n",
       "      <th>0</th>\n",
       "      <th>1</th>\n",
       "    </tr>\n",
       "    <tr>\n",
       "      <th>Revenue</th>\n",
       "      <th></th>\n",
       "      <th></th>\n",
       "    </tr>\n",
       "  </thead>\n",
       "  <tbody>\n",
       "    <tr>\n",
       "      <th>$1 to $2 billion (USD)</th>\n",
       "      <td>50.0</td>\n",
       "      <td>1.0</td>\n",
       "    </tr>\n",
       "    <tr>\n",
       "      <th>$1 to $5 million (USD)</th>\n",
       "      <td>22.0</td>\n",
       "      <td>6.0</td>\n",
       "    </tr>\n",
       "    <tr>\n",
       "      <th>$10 to $25 million (USD)</th>\n",
       "      <td>72.0</td>\n",
       "      <td>7.0</td>\n",
       "    </tr>\n",
       "    <tr>\n",
       "      <th>$10+ billion (USD)</th>\n",
       "      <td>102.0</td>\n",
       "      <td>16.0</td>\n",
       "    </tr>\n",
       "    <tr>\n",
       "      <th>$100 to $500 million (USD)</th>\n",
       "      <td>141.0</td>\n",
       "      <td>10.0</td>\n",
       "    </tr>\n",
       "    <tr>\n",
       "      <th>$2 to $5 billion (USD)</th>\n",
       "      <td>35.0</td>\n",
       "      <td>5.0</td>\n",
       "    </tr>\n",
       "    <tr>\n",
       "      <th>$25 to $50 million (USD)</th>\n",
       "      <td>34.0</td>\n",
       "      <td>2.0</td>\n",
       "    </tr>\n",
       "    <tr>\n",
       "      <th>$5 to $10 billion (USD)</th>\n",
       "      <td>45.0</td>\n",
       "      <td>NaN</td>\n",
       "    </tr>\n",
       "    <tr>\n",
       "      <th>$5 to $10 million (USD)</th>\n",
       "      <td>41.0</td>\n",
       "      <td>2.0</td>\n",
       "    </tr>\n",
       "    <tr>\n",
       "      <th>$50 to $100 million (USD)</th>\n",
       "      <td>58.0</td>\n",
       "      <td>5.0</td>\n",
       "    </tr>\n",
       "    <tr>\n",
       "      <th>$500 million to $1 billion (USD)</th>\n",
       "      <td>74.0</td>\n",
       "      <td>1.0</td>\n",
       "    </tr>\n",
       "    <tr>\n",
       "      <th>-1</th>\n",
       "      <td>68.0</td>\n",
       "      <td>3.0</td>\n",
       "    </tr>\n",
       "    <tr>\n",
       "      <th>Less than $1 million (USD)</th>\n",
       "      <td>69.0</td>\n",
       "      <td>3.0</td>\n",
       "    </tr>\n",
       "    <tr>\n",
       "      <th>Unknown / Non-Applicable</th>\n",
       "      <td>321.0</td>\n",
       "      <td>24.0</td>\n",
       "    </tr>\n",
       "  </tbody>\n",
       "</table>\n",
       "</div>"
      ],
      "text/plain": [
       "python                                0     1\n",
       "Revenue                                      \n",
       "$1 to $2 billion (USD)             50.0   1.0\n",
       "$1 to $5 million (USD)             22.0   6.0\n",
       "$10 to $25 million (USD)           72.0   7.0\n",
       "$10+ billion (USD)                102.0  16.0\n",
       "$100 to $500 million (USD)        141.0  10.0\n",
       "$2 to $5 billion (USD)             35.0   5.0\n",
       "$25 to $50 million (USD)           34.0   2.0\n",
       "$5 to $10 billion (USD)            45.0   NaN\n",
       "$5 to $10 million (USD)            41.0   2.0\n",
       "$50 to $100 million (USD)          58.0   5.0\n",
       "$500 million to $1 billion (USD)   74.0   1.0\n",
       "-1                                 68.0   3.0\n",
       "Less than $1 million (USD)         69.0   3.0\n",
       "Unknown / Non-Applicable          321.0  24.0"
      ]
     },
     "execution_count": 29,
     "metadata": {},
     "output_type": "execute_result"
    }
   ],
   "source": [
    "pd.pivot_table(df_pivots,index='Revenue',columns='python',values='avg_salary',aggfunc='count')"
   ]
  },
  {
   "cell_type": "code",
   "execution_count": null,
   "metadata": {},
   "outputs": [
    {
     "name": "stderr",
     "output_type": "stream",
     "text": [
      "[nltk_data] Downloading package stopwords to\n",
      "[nltk_data]     C:\\Users\\91720\\AppData\\Roaming\\nltk_data...\n",
      "[nltk_data]   Package stopwords is already up-to-date!\n",
      "[nltk_data] Downloading package punkt to\n",
      "[nltk_data]     C:\\Users\\91720\\AppData\\Roaming\\nltk_data...\n"
     ]
    }
   ],
   "source": [
    "from wordcloud import WordCloud,ImageColorGenerator,STOPWORDS\n",
    "from nltk.corpus import stopwords\n",
    "from nltk.tokenize import word_tokenize \n",
    "import nltk\n",
    "nltk.download('stopwords')\n",
    "nltk.download('punkt')\n"
   ]
  },
  {
   "cell_type": "code",
   "execution_count": null,
   "metadata": {},
   "outputs": [],
   "source": [
    "words = \" \".join(df['Job Description'])\n",
    "\n",
    "def punctuation_stop(text):\n",
    "    \"\"\"Removes punctuation and stop words\"\"\"\n",
    "    filtered =[]\n",
    "    stop_words = set(stopwords.words('english'))\n",
    "    word_tokens =word_tokenize(text)\n",
    "    for w in word_tokens:\n",
    "        if w not in stop_words and w.isalpha():\n",
    "            filtereda.append(w.lower())\n",
    "    return filtered\n",
    "\n",
    "words_filtered = punctuation_stop(words)\n",
    "text =\" \".join([ele for ele in words_filtered])\n",
    "\n",
    "wc = WordCloud(background_color='white',random_state=1,stopwords=STOPWORDS,max_words =2000,wodth =800,height =1500)\n",
    "wc.generate(text)\n",
    "\n",
    "plt.figure(figsize=[10,10])\n",
    "plt.imshhow(wc,interpolation='bilinear')\n",
    "plt.axis('off')\n",
    "plt.show"
   ]
  },
  {
   "cell_type": "code",
   "execution_count": null,
   "metadata": {},
   "outputs": [],
   "source": []
  }
 ],
 "metadata": {
  "kernelspec": {
   "display_name": "Python 3",
   "language": "python",
   "name": "python3"
  },
  "language_info": {
   "codemirror_mode": {
    "name": "ipython",
    "version": 3
   },
   "file_extension": ".py",
   "mimetype": "text/x-python",
   "name": "python",
   "nbconvert_exporter": "python",
   "pygments_lexer": "ipython3",
   "version": "3.8.5"
  }
 },
 "nbformat": 4,
 "nbformat_minor": 4
}
